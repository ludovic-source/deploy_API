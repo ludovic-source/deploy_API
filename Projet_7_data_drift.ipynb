{
 "cells": [
  {
   "cell_type": "markdown",
   "id": "20947249-7bad-4f63-a083-34e5e4cce2c3",
   "metadata": {},
   "source": [
    "# Implémentez un modèle de scoring\n",
    "\n",
    "## Analyser le data drift\n",
    "\n",
    "Utilisons la bibiliothèque Evidently qui permet de détecter et visualiser le data drift, c'est-à-dire les changements dans la distribution des features entre les données d'entraînement et les nouvelles données de production.\n",
    "\n",
    "Le fichier application_train correspond aux données d'entraînement. Et le fichier application_test correspond aux nouvelles données de production.\n",
    "\n",
    "### Chargement des données"
   ]
  },
  {
   "cell_type": "code",
   "execution_count": 1,
   "id": "e9d2ef58-98d8-4f6c-883c-1f1a69b50c8e",
   "metadata": {},
   "outputs": [
    {
     "name": "stdout",
     "output_type": "stream",
     "text": [
      "0.6.5\n"
     ]
    }
   ],
   "source": [
    "import evidently\n",
    "print(evidently.__version__)"
   ]
  },
  {
   "cell_type": "code",
   "execution_count": 5,
   "id": "039c93a8-e10e-4470-95f3-2fd1fa7597b5",
   "metadata": {},
   "outputs": [],
   "source": [
    "import pandas as pd\n",
    "from evidently.report import Report\n",
    "from evidently.metric_preset import DataDriftPreset"
   ]
  },
  {
   "cell_type": "code",
   "execution_count": 11,
   "id": "97571468-668c-411f-833b-3e737016a8f6",
   "metadata": {},
   "outputs": [],
   "source": [
    "df_train = pd.read_csv(\"C:/Users/admin/Documents/Projets/Projet_7/data_projet/application_train.csv\")\n",
    "df_train = df_train.drop(columns=['TARGET'], errors='ignore')\n",
    "df_test = pd.read_csv(\"C:/Users/admin/Documents/Projets/Projet_7/data_projet/application_test.csv\")"
   ]
  },
  {
   "cell_type": "markdown",
   "id": "7fbc3901-6b80-4382-95aa-07bfb0249a55",
   "metadata": {},
   "source": [
    "### Création du rapport de Data Drift\n",
    "\n",
    "Evidently compare les distributions des variables entre df_train et df_test pour détecter d’éventuels changements.\n",
    "\n",
    "On utilise DataDriftPreset pour générer le rapport :"
   ]
  },
  {
   "cell_type": "code",
   "execution_count": 12,
   "id": "514cd753-73b0-4063-861e-c1d2d3c8afe0",
   "metadata": {},
   "outputs": [],
   "source": [
    "data_drift_report = Report(metrics=[DataDriftPreset()])\n",
    "data_drift_report.run(reference_data=df_train, current_data=df_test)"
   ]
  },
  {
   "cell_type": "markdown",
   "id": "93a0b9e4-54fa-4381-b98d-5ed9c30c8568",
   "metadata": {},
   "source": [
    "### Sauvegarde en local du rapport en HTML"
   ]
  },
  {
   "cell_type": "code",
   "execution_count": 14,
   "id": "d3dda0d8-5c37-411c-8028-940aec664f5b",
   "metadata": {},
   "outputs": [],
   "source": [
    "data_drift_report.save_html(\"data_drift_report.html\")"
   ]
  },
  {
   "cell_type": "markdown",
   "id": "c1d2ff00-a966-4fb5-8289-12dd7bddc526",
   "metadata": {},
   "source": [
    "### Interprétatation des résultats\n",
    "\n",
    "Il n'y a pas de drift détecté globalement.\n",
    "\n",
    "- Dataset drift detection threshold is 0.5 = seuil au-dessus duquel un drift est considéré comme important. Si la différence entre les distributions des colonnes d'entraînement et de test dépasse 0,5, un drift sera détecté.\n",
    "- Dataset Drift is NOT detected : Cela signifie que, selon le seuil de détection (0,5), aucun drift important n'a été observé dans les données entre le df entraînement et le df de test.\n",
    "- Drifted Columns 0.0744 = 7,44% des colonnes présentent un drift léger.\n",
    "- La variable AMT_REQ_CREDIT_BUREAU_QRT présente le drift le plus important (0,36)"
   ]
  },
  {
   "cell_type": "code",
   "execution_count": null,
   "id": "9f9d0ff3-a058-4b94-bb9d-5aba9e915964",
   "metadata": {},
   "outputs": [],
   "source": []
  }
 ],
 "metadata": {
  "kernelspec": {
   "display_name": "Python (evidently_env)",
   "language": "python",
   "name": "evidently_env"
  },
  "language_info": {
   "codemirror_mode": {
    "name": "ipython",
    "version": 3
   },
   "file_extension": ".py",
   "mimetype": "text/x-python",
   "name": "python",
   "nbconvert_exporter": "python",
   "pygments_lexer": "ipython3",
   "version": "3.9.21"
  }
 },
 "nbformat": 4,
 "nbformat_minor": 5
}
